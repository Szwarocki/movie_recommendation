{
  "nbformat": 4,
  "nbformat_minor": 0,
  "metadata": {
    "colab": {
      "provenance": []
    },
    "kernelspec": {
      "name": "python3",
      "display_name": "Python 3"
    },
    "language_info": {
      "name": "python"
    }
  },
  "cells": [
    {
      "cell_type": "code",
      "source": [
        "import pandas as pd\n",
        "import numpy as np\n",
        "from sklearn.metrics.pairwise import cosine_similarity\n",
        "from sklearn.metrics import mean_squared_error"
      ],
      "metadata": {
        "id": "MHO4sP37CdkJ"
      },
      "execution_count": null,
      "outputs": []
    },
    {
      "cell_type": "code",
      "source": [
        "\n",
        "ratings = pd.read_csv('ratings.dat', sep='::', engine='python',\n",
        "                      names=['userId', 'movieId', 'rating', 'timestamp'])\n",
        "\n",
        "movies = pd.read_csv('movies.dat', sep='::', engine='python',\n",
        "                     names=['movieId', 'title', 'genres'],\n",
        "                     encoding='latin1')\n",
        "\n",
        "\n",
        "print(\"Liczba wszystkich ocen:\", len(ratings))\n",
        "print(\"Liczba unikalnych użytkowników:\", ratings['userId'].nunique())\n",
        "print(\"Liczba unikalnych filmów ocenionych:\", ratings['movieId'].nunique())\n",
        "print(\"Liczba wszystkich filmów w movies.dat:\", len(movies))\n",
        "print(\"Liczba filmów bez ocen:\", len(movies) - ratings['movieId'].nunique())\n",
        "print(\"Przykładowe filmy:\")\n",
        "print(movies.sample(10))\n",
        "\n",
        "\n"
      ],
      "metadata": {
        "id": "jZv0hPC387LA",
        "colab": {
          "base_uri": "https://localhost:8080/"
        },
        "outputId": "f2403775-fa13-4750-a039-bb8ca1b94303"
      },
      "execution_count": 12,
      "outputs": [
        {
          "output_type": "stream",
          "name": "stdout",
          "text": [
            "Liczba wszystkich ocen: 1000209\n",
            "Liczba unikalnych użytkowników: 6040\n",
            "Liczba unikalnych filmów ocenionych: 3706\n",
            "Liczba wszystkich filmów w movies.dat: 3883\n",
            "Liczba filmów bez ocen: 177\n",
            "Przykładowe filmy:\n",
            "      movieId                                              title  \\\n",
            "183       185                                    Net, The (1995)   \n",
            "773       783                Hunchback of Notre Dame, The (1996)   \n",
            "1769     1837                          Odd Couple II, The (1998)   \n",
            "1753     1819                        Storefront Hitchcock (1997)   \n",
            "1425     1450  Prisoner of the Mountains (Kavkazsky Plennik) ...   \n",
            "1891     1960                           Last Emperor, The (1987)   \n",
            "718       727                                 War Stories (1995)   \n",
            "2876     2945                               Mike's Murder (1984)   \n",
            "3519     3588                 King of Marvin Gardens, The (1972)   \n",
            "2412     2481                              My Name Is Joe (1998)   \n",
            "\n",
            "                            genres  \n",
            "183                Sci-Fi|Thriller  \n",
            "773   Animation|Children's|Musical  \n",
            "1769                        Comedy  \n",
            "1753                         Drama  \n",
            "1425                           War  \n",
            "1891                     Drama|War  \n",
            "718                    Documentary  \n",
            "2876                       Mystery  \n",
            "3519                   Crime|Drama  \n",
            "2412                 Drama|Romance  \n"
          ]
        }
      ]
    },
    {
      "cell_type": "code",
      "execution_count": 13,
      "metadata": {
        "colab": {
          "base_uri": "https://localhost:8080/"
        },
        "id": "NUttmoxF8hWH",
        "outputId": "0cf47056-0f9a-40cf-e8e7-4d8a9f9ecb07"
      },
      "outputs": [
        {
          "output_type": "stream",
          "name": "stdout",
          "text": [
            "k = 10   RMSE = 1.0423\n",
            "k = 30   RMSE = 0.9753\n",
            "k = 50   RMSE = 0.9792\n",
            "k = 100  RMSE = 0.9746\n",
            "k = 200  RMSE = 0.9823\n",
            "k = 500  RMSE = 0.9869\n",
            "\n",
            "Najlepsze k = 100, RMSE = 0.9746\n",
            "\n",
            "Rekomendacje dla użytkownika 109 (k=100):\n",
            "      movieId                                 title\n",
            "1371     1392                   Citizen Ruth (1996)\n",
            "2591     2660  Thing From Another World, The (1951)\n",
            "2612     2681                Free Enterprise (1998)\n",
            "3295     3364            Asphalt Jungle, The (1950)\n",
            "3791     3861              Replacements, The (2000)\n",
            "\n",
            "RMSE (k=100): 0.9495\n"
          ]
        }
      ],
      "source": [
        "#  Macierz użytkownik–film\n",
        "user_movie_matrix = ratings.pivot(index='userId', columns='movieId', values='rating')\n",
        "user_movie_matrix_filled = user_movie_matrix.fillna(0)\n",
        "\n",
        "#  Podobieństwo meidzy uztkownmikammi czeli na miejsci [109-300] mam miedzy nimi podobinstwo\n",
        "user_similarity = cosine_similarity(user_movie_matrix_filled)\n",
        "user_similarity_df = pd.DataFrame(user_similarity,\n",
        "                                  index=user_movie_matrix_filled.index,\n",
        "                                  columns=user_movie_matrix_filled.index)\n",
        "\n",
        "#  Przewidywanie oceny, szukam k najbardziej pdodobnych biore ich oceny tego filmu i oblcizam srednia\n",
        "def predict_rating(user_id, movie_id, k=5):\n",
        "    similar_users = user_similarity_df[user_id].drop(user_id).sort_values(ascending=False)\n",
        "    top_users = similar_users.head(k).index\n",
        "    neighbor_ratings = user_movie_matrix.loc[top_users, movie_id].dropna()\n",
        "    return neighbor_ratings.mean()\n",
        "\n",
        "# dobiertam najlepsze k\n",
        "sample_k_search = ratings.sample(1000, random_state=42)\n",
        "best_rmse = float('inf')\n",
        "k_best = None\n",
        "\n",
        "for k in [10, 30, 50, 100, 200, 500]:\n",
        "    predicted = []\n",
        "    actual = []\n",
        "\n",
        "    for _, row in sample_k_search.iterrows():\n",
        "        pred = predict_rating(row['userId'], row['movieId'], k)\n",
        "        if not np.isnan(pred):\n",
        "            predicted.append(pred)\n",
        "            actual.append(row['rating'])\n",
        "\n",
        "    rmse = np.sqrt(mean_squared_error(actual, predicted))\n",
        "    print(f\"k = {k:<4} RMSE = {rmse:.4f}\")\n",
        "    if rmse < best_rmse:\n",
        "        best_rmse = rmse\n",
        "        k_best = k\n",
        "\n",
        "print(f\"\\nNajlepsze k = {k_best}, RMSE = {best_rmse:.4f}\")\n",
        "\n",
        "#  zwracam top 5 filmow dla uzytkownika\n",
        "def recommend_movies_for_user(user_id, k=k_best, top_n=5):\n",
        "    similar_users = user_similarity_df[user_id].drop(user_id).sort_values(ascending=False)\n",
        "    top_users = similar_users.head(k).index\n",
        "    similar_ratings = user_movie_matrix.loc[top_users]\n",
        "    mean_ratings = similar_ratings.mean().sort_values(ascending=False)\n",
        "    seen_movies = user_movie_matrix.loc[user_id][user_movie_matrix.loc[user_id].notna()].index\n",
        "    recommendations = mean_ratings.drop(index=seen_movies)\n",
        "    top_movie_ids = recommendations.head(top_n).index\n",
        "    return movies[movies['movieId'].isin(top_movie_ids)][['movieId', 'title']]\n",
        "\n",
        "print(f\"\\nRekomendacje dla użytkownika 109 (k={k_best}):\")\n",
        "print(recommend_movies_for_user(109, k_best, 5))\n",
        "\n",
        "#  RMSE\n",
        "sample_eval = ratings.sample(10000, random_state=123)\n",
        "predicted = []\n",
        "actual = []\n",
        "\n",
        "for _, row in sample_eval.iterrows():\n",
        "    pred = predict_rating(row['userId'], row['movieId'], k_best)\n",
        "    if not np.isnan(pred):\n",
        "        predicted.append(pred)\n",
        "        actual.append(row['rating'])\n",
        "\n",
        "rmse = np.sqrt(mean_squared_error(actual, predicted))\n",
        "print(f\"\\nRMSE (k={k_best}): {rmse:.4f}\")\n"
      ]
    },
    {
      "cell_type": "code",
      "source": [],
      "metadata": {
        "id": "RFH963YQDhuJ"
      },
      "execution_count": null,
      "outputs": []
    }
  ]
}