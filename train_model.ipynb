{
  "nbformat": 4,
  "nbformat_minor": 0,
  "metadata": {
    "colab": {
      "provenance": [],
      "gpuType": "T4"
    },
    "kernelspec": {
      "name": "python3",
      "display_name": "Python 3"
    },
    "language_info": {
      "name": "python"
    },
    "accelerator": "GPU"
  },
  "cells": [
    {
      "cell_type": "markdown",
      "source": [
        "# 🎬 Trening modelu rekomendacyjnego NeuMF + gatunek (MovieLens)\n",
        "W tym notebooku budujemy system rekomendacyjny oparty na architekturze NeuMF (Neural Matrix Factorization) z dodatkowymi embeddingami gatunków filmowych.\n",
        "\n",
        "Celem modelu jest przewidywanie ocen użytkowników dla filmów na podstawie danych MovieLens. 1M\n"
      ],
      "metadata": {
        "id": "I9OeS2ID4XFU"
      }
    },
    {
      "cell_type": "code",
      "source": [
        "from sklearn.metrics import mean_squared_error, mean_absolute_error\n",
        "import numpy as np\n",
        "import matplotlib.pyplot as plt\n",
        "import seaborn as sns\n",
        "import pandas as pd\n",
        "import matplotlib.pyplot as plt\n",
        "import numpy as np\n",
        "import pandas as pd\n",
        "from sklearn.model_selection import train_test_split\n",
        "import tensorflow as tf\n",
        "from tensorflow import keras\n",
        "from tensorflow.keras import layers\n",
        "from tensorflow.keras.callbacks import EarlyStopping\n",
        "import matplotlib.pyplot as plt\n",
        "from sklearn.model_selection import train_test_split\n",
        "from tensorflow.keras.layers import Input, Embedding, Flatten, Dense, Multiply, Concatenate, Dropout\n",
        "from tensorflow.keras.models import Model\n",
        "from tensorflow.keras.regularizers import l2\n",
        "from tensorflow.keras.layers import BatchNormalization\n",
        "import pickle"
      ],
      "metadata": {
        "id": "D8B-uOwQj4Wa"
      },
      "execution_count": null,
      "outputs": []
    },
    {
      "cell_type": "markdown",
      "source": [
        "## 📥 Wczytanie danych MovieLens\n",
        "\n",
        "Na początek wczytujemy pliki `ratings.dat` oraz `movies.dat` ze zbioru MovieLens.  \n",
        "Dane te zawierają odpowiednio:\n",
        "- informacje o ocenach (użytkownik, film, ocena, znacznik czasu),\n",
        "- tytuły filmów wraz z przypisanymi gatunkami.\n"
      ],
      "metadata": {
        "id": "fo_wax_921wU"
      }
    },
    {
      "cell_type": "code",
      "execution_count": null,
      "metadata": {
        "colab": {
          "base_uri": "https://localhost:8080/",
          "height": 224
        },
        "id": "q-iV0-LygR-H",
        "outputId": "e788abe8-116e-41c3-c8c0-1a030fdcdfa5"
      },
      "outputs": [
        {
          "output_type": "stream",
          "name": "stdout",
          "text": [
            "[np.int64(1), np.int64(2), np.int64(3), np.int64(4), np.int64(5)]\n"
          ]
        },
        {
          "output_type": "execute_result",
          "data": {
            "text/plain": [
              "   userId  movieId  rating  timestamp\n",
              "0       1     1193       5  978300760\n",
              "1       1      661       3  978302109\n",
              "2       1      914       3  978301968\n",
              "3       1     3408       4  978300275\n",
              "4       1     2355       5  978824291"
            ],
            "text/html": [
              "\n",
              "  <div id=\"df-b4851fa4-60de-44b8-95dd-93bd7758389c\" class=\"colab-df-container\">\n",
              "    <div>\n",
              "<style scoped>\n",
              "    .dataframe tbody tr th:only-of-type {\n",
              "        vertical-align: middle;\n",
              "    }\n",
              "\n",
              "    .dataframe tbody tr th {\n",
              "        vertical-align: top;\n",
              "    }\n",
              "\n",
              "    .dataframe thead th {\n",
              "        text-align: right;\n",
              "    }\n",
              "</style>\n",
              "<table border=\"1\" class=\"dataframe\">\n",
              "  <thead>\n",
              "    <tr style=\"text-align: right;\">\n",
              "      <th></th>\n",
              "      <th>userId</th>\n",
              "      <th>movieId</th>\n",
              "      <th>rating</th>\n",
              "      <th>timestamp</th>\n",
              "    </tr>\n",
              "  </thead>\n",
              "  <tbody>\n",
              "    <tr>\n",
              "      <th>0</th>\n",
              "      <td>1</td>\n",
              "      <td>1193</td>\n",
              "      <td>5</td>\n",
              "      <td>978300760</td>\n",
              "    </tr>\n",
              "    <tr>\n",
              "      <th>1</th>\n",
              "      <td>1</td>\n",
              "      <td>661</td>\n",
              "      <td>3</td>\n",
              "      <td>978302109</td>\n",
              "    </tr>\n",
              "    <tr>\n",
              "      <th>2</th>\n",
              "      <td>1</td>\n",
              "      <td>914</td>\n",
              "      <td>3</td>\n",
              "      <td>978301968</td>\n",
              "    </tr>\n",
              "    <tr>\n",
              "      <th>3</th>\n",
              "      <td>1</td>\n",
              "      <td>3408</td>\n",
              "      <td>4</td>\n",
              "      <td>978300275</td>\n",
              "    </tr>\n",
              "    <tr>\n",
              "      <th>4</th>\n",
              "      <td>1</td>\n",
              "      <td>2355</td>\n",
              "      <td>5</td>\n",
              "      <td>978824291</td>\n",
              "    </tr>\n",
              "  </tbody>\n",
              "</table>\n",
              "</div>\n",
              "    <div class=\"colab-df-buttons\">\n",
              "\n",
              "  <div class=\"colab-df-container\">\n",
              "    <button class=\"colab-df-convert\" onclick=\"convertToInteractive('df-b4851fa4-60de-44b8-95dd-93bd7758389c')\"\n",
              "            title=\"Convert this dataframe to an interactive table.\"\n",
              "            style=\"display:none;\">\n",
              "\n",
              "  <svg xmlns=\"http://www.w3.org/2000/svg\" height=\"24px\" viewBox=\"0 -960 960 960\">\n",
              "    <path d=\"M120-120v-720h720v720H120Zm60-500h600v-160H180v160Zm220 220h160v-160H400v160Zm0 220h160v-160H400v160ZM180-400h160v-160H180v160Zm440 0h160v-160H620v160ZM180-180h160v-160H180v160Zm440 0h160v-160H620v160Z\"/>\n",
              "  </svg>\n",
              "    </button>\n",
              "\n",
              "  <style>\n",
              "    .colab-df-container {\n",
              "      display:flex;\n",
              "      gap: 12px;\n",
              "    }\n",
              "\n",
              "    .colab-df-convert {\n",
              "      background-color: #E8F0FE;\n",
              "      border: none;\n",
              "      border-radius: 50%;\n",
              "      cursor: pointer;\n",
              "      display: none;\n",
              "      fill: #1967D2;\n",
              "      height: 32px;\n",
              "      padding: 0 0 0 0;\n",
              "      width: 32px;\n",
              "    }\n",
              "\n",
              "    .colab-df-convert:hover {\n",
              "      background-color: #E2EBFA;\n",
              "      box-shadow: 0px 1px 2px rgba(60, 64, 67, 0.3), 0px 1px 3px 1px rgba(60, 64, 67, 0.15);\n",
              "      fill: #174EA6;\n",
              "    }\n",
              "\n",
              "    .colab-df-buttons div {\n",
              "      margin-bottom: 4px;\n",
              "    }\n",
              "\n",
              "    [theme=dark] .colab-df-convert {\n",
              "      background-color: #3B4455;\n",
              "      fill: #D2E3FC;\n",
              "    }\n",
              "\n",
              "    [theme=dark] .colab-df-convert:hover {\n",
              "      background-color: #434B5C;\n",
              "      box-shadow: 0px 1px 3px 1px rgba(0, 0, 0, 0.15);\n",
              "      filter: drop-shadow(0px 1px 2px rgba(0, 0, 0, 0.3));\n",
              "      fill: #FFFFFF;\n",
              "    }\n",
              "  </style>\n",
              "\n",
              "    <script>\n",
              "      const buttonEl =\n",
              "        document.querySelector('#df-b4851fa4-60de-44b8-95dd-93bd7758389c button.colab-df-convert');\n",
              "      buttonEl.style.display =\n",
              "        google.colab.kernel.accessAllowed ? 'block' : 'none';\n",
              "\n",
              "      async function convertToInteractive(key) {\n",
              "        const element = document.querySelector('#df-b4851fa4-60de-44b8-95dd-93bd7758389c');\n",
              "        const dataTable =\n",
              "          await google.colab.kernel.invokeFunction('convertToInteractive',\n",
              "                                                    [key], {});\n",
              "        if (!dataTable) return;\n",
              "\n",
              "        const docLinkHtml = 'Like what you see? Visit the ' +\n",
              "          '<a target=\"_blank\" href=https://colab.research.google.com/notebooks/data_table.ipynb>data table notebook</a>'\n",
              "          + ' to learn more about interactive tables.';\n",
              "        element.innerHTML = '';\n",
              "        dataTable['output_type'] = 'display_data';\n",
              "        await google.colab.output.renderOutput(dataTable, element);\n",
              "        const docLink = document.createElement('div');\n",
              "        docLink.innerHTML = docLinkHtml;\n",
              "        element.appendChild(docLink);\n",
              "      }\n",
              "    </script>\n",
              "  </div>\n",
              "\n",
              "\n",
              "    <div id=\"df-ae61bb6e-0335-46ea-9bf1-92c2ecddf84c\">\n",
              "      <button class=\"colab-df-quickchart\" onclick=\"quickchart('df-ae61bb6e-0335-46ea-9bf1-92c2ecddf84c')\"\n",
              "                title=\"Suggest charts\"\n",
              "                style=\"display:none;\">\n",
              "\n",
              "<svg xmlns=\"http://www.w3.org/2000/svg\" height=\"24px\"viewBox=\"0 0 24 24\"\n",
              "     width=\"24px\">\n",
              "    <g>\n",
              "        <path d=\"M19 3H5c-1.1 0-2 .9-2 2v14c0 1.1.9 2 2 2h14c1.1 0 2-.9 2-2V5c0-1.1-.9-2-2-2zM9 17H7v-7h2v7zm4 0h-2V7h2v10zm4 0h-2v-4h2v4z\"/>\n",
              "    </g>\n",
              "</svg>\n",
              "      </button>\n",
              "\n",
              "<style>\n",
              "  .colab-df-quickchart {\n",
              "      --bg-color: #E8F0FE;\n",
              "      --fill-color: #1967D2;\n",
              "      --hover-bg-color: #E2EBFA;\n",
              "      --hover-fill-color: #174EA6;\n",
              "      --disabled-fill-color: #AAA;\n",
              "      --disabled-bg-color: #DDD;\n",
              "  }\n",
              "\n",
              "  [theme=dark] .colab-df-quickchart {\n",
              "      --bg-color: #3B4455;\n",
              "      --fill-color: #D2E3FC;\n",
              "      --hover-bg-color: #434B5C;\n",
              "      --hover-fill-color: #FFFFFF;\n",
              "      --disabled-bg-color: #3B4455;\n",
              "      --disabled-fill-color: #666;\n",
              "  }\n",
              "\n",
              "  .colab-df-quickchart {\n",
              "    background-color: var(--bg-color);\n",
              "    border: none;\n",
              "    border-radius: 50%;\n",
              "    cursor: pointer;\n",
              "    display: none;\n",
              "    fill: var(--fill-color);\n",
              "    height: 32px;\n",
              "    padding: 0;\n",
              "    width: 32px;\n",
              "  }\n",
              "\n",
              "  .colab-df-quickchart:hover {\n",
              "    background-color: var(--hover-bg-color);\n",
              "    box-shadow: 0 1px 2px rgba(60, 64, 67, 0.3), 0 1px 3px 1px rgba(60, 64, 67, 0.15);\n",
              "    fill: var(--button-hover-fill-color);\n",
              "  }\n",
              "\n",
              "  .colab-df-quickchart-complete:disabled,\n",
              "  .colab-df-quickchart-complete:disabled:hover {\n",
              "    background-color: var(--disabled-bg-color);\n",
              "    fill: var(--disabled-fill-color);\n",
              "    box-shadow: none;\n",
              "  }\n",
              "\n",
              "  .colab-df-spinner {\n",
              "    border: 2px solid var(--fill-color);\n",
              "    border-color: transparent;\n",
              "    border-bottom-color: var(--fill-color);\n",
              "    animation:\n",
              "      spin 1s steps(1) infinite;\n",
              "  }\n",
              "\n",
              "  @keyframes spin {\n",
              "    0% {\n",
              "      border-color: transparent;\n",
              "      border-bottom-color: var(--fill-color);\n",
              "      border-left-color: var(--fill-color);\n",
              "    }\n",
              "    20% {\n",
              "      border-color: transparent;\n",
              "      border-left-color: var(--fill-color);\n",
              "      border-top-color: var(--fill-color);\n",
              "    }\n",
              "    30% {\n",
              "      border-color: transparent;\n",
              "      border-left-color: var(--fill-color);\n",
              "      border-top-color: var(--fill-color);\n",
              "      border-right-color: var(--fill-color);\n",
              "    }\n",
              "    40% {\n",
              "      border-color: transparent;\n",
              "      border-right-color: var(--fill-color);\n",
              "      border-top-color: var(--fill-color);\n",
              "    }\n",
              "    60% {\n",
              "      border-color: transparent;\n",
              "      border-right-color: var(--fill-color);\n",
              "    }\n",
              "    80% {\n",
              "      border-color: transparent;\n",
              "      border-right-color: var(--fill-color);\n",
              "      border-bottom-color: var(--fill-color);\n",
              "    }\n",
              "    90% {\n",
              "      border-color: transparent;\n",
              "      border-bottom-color: var(--fill-color);\n",
              "    }\n",
              "  }\n",
              "</style>\n",
              "\n",
              "      <script>\n",
              "        async function quickchart(key) {\n",
              "          const quickchartButtonEl =\n",
              "            document.querySelector('#' + key + ' button');\n",
              "          quickchartButtonEl.disabled = true;  // To prevent multiple clicks.\n",
              "          quickchartButtonEl.classList.add('colab-df-spinner');\n",
              "          try {\n",
              "            const charts = await google.colab.kernel.invokeFunction(\n",
              "                'suggestCharts', [key], {});\n",
              "          } catch (error) {\n",
              "            console.error('Error during call to suggestCharts:', error);\n",
              "          }\n",
              "          quickchartButtonEl.classList.remove('colab-df-spinner');\n",
              "          quickchartButtonEl.classList.add('colab-df-quickchart-complete');\n",
              "        }\n",
              "        (() => {\n",
              "          let quickchartButtonEl =\n",
              "            document.querySelector('#df-ae61bb6e-0335-46ea-9bf1-92c2ecddf84c button');\n",
              "          quickchartButtonEl.style.display =\n",
              "            google.colab.kernel.accessAllowed ? 'block' : 'none';\n",
              "        })();\n",
              "      </script>\n",
              "    </div>\n",
              "\n",
              "    </div>\n",
              "  </div>\n"
            ],
            "application/vnd.google.colaboratory.intrinsic+json": {
              "type": "dataframe",
              "variable_name": "ratings"
            }
          },
          "metadata": {},
          "execution_count": 3
        }
      ],
      "source": [
        "ratings = pd.read_csv('ratings.dat', sep='::', engine='python',\n",
        "                      names=['userId', 'movieId', 'rating', 'timestamp'],\n",
        "                      encoding='latin1')\n",
        "\n",
        "movies = pd.read_csv('movies.dat', sep='::', engine='python',\n",
        "                     names=['movieId', 'title', 'genres'],\n",
        "                     encoding='latin1')\n",
        "\n",
        "print(sorted(ratings['rating'].unique()))\n",
        "ratings.head()\n"
      ]
    },
    {
      "cell_type": "markdown",
      "source": [],
      "metadata": {
        "id": "mptHuZdE1ukw"
      }
    },
    {
      "cell_type": "code",
      "source": [
        "movies['main_genre'] = movies['genres'].str.split('|').str[0]\n",
        "\n",
        "from sklearn.preprocessing import LabelEncoder\n",
        "genre_encoder = LabelEncoder()\n",
        "movies['genre_id'] = genre_encoder.fit_transform(movies['main_genre'])\n",
        "\n",
        "n_genres = len(genre_encoder.classes_)\n",
        "print(f\"Liczba unikalnych gatunków: {n_genres}\")\n",
        "movies[['title', 'main_genre', 'genre_id']].head()\n"
      ],
      "metadata": {
        "colab": {
          "base_uri": "https://localhost:8080/",
          "height": 224
        },
        "id": "1rvASvTjgWdP",
        "outputId": "5616eb64-4d3c-408b-a648-9a49df9bd809"
      },
      "execution_count": null,
      "outputs": [
        {
          "output_type": "stream",
          "name": "stdout",
          "text": [
            "Liczba unikalnych gatunków: 18\n"
          ]
        },
        {
          "output_type": "execute_result",
          "data": {
            "text/plain": [
              "                                title main_genre  genre_id\n",
              "0                    Toy Story (1995)  Animation         2\n",
              "1                      Jumanji (1995)  Adventure         1\n",
              "2             Grumpier Old Men (1995)     Comedy         4\n",
              "3            Waiting to Exhale (1995)     Comedy         4\n",
              "4  Father of the Bride Part II (1995)     Comedy         4"
            ],
            "text/html": [
              "\n",
              "  <div id=\"df-aebad6ff-bbc2-43ac-9100-b416be3bf2d3\" class=\"colab-df-container\">\n",
              "    <div>\n",
              "<style scoped>\n",
              "    .dataframe tbody tr th:only-of-type {\n",
              "        vertical-align: middle;\n",
              "    }\n",
              "\n",
              "    .dataframe tbody tr th {\n",
              "        vertical-align: top;\n",
              "    }\n",
              "\n",
              "    .dataframe thead th {\n",
              "        text-align: right;\n",
              "    }\n",
              "</style>\n",
              "<table border=\"1\" class=\"dataframe\">\n",
              "  <thead>\n",
              "    <tr style=\"text-align: right;\">\n",
              "      <th></th>\n",
              "      <th>title</th>\n",
              "      <th>main_genre</th>\n",
              "      <th>genre_id</th>\n",
              "    </tr>\n",
              "  </thead>\n",
              "  <tbody>\n",
              "    <tr>\n",
              "      <th>0</th>\n",
              "      <td>Toy Story (1995)</td>\n",
              "      <td>Animation</td>\n",
              "      <td>2</td>\n",
              "    </tr>\n",
              "    <tr>\n",
              "      <th>1</th>\n",
              "      <td>Jumanji (1995)</td>\n",
              "      <td>Adventure</td>\n",
              "      <td>1</td>\n",
              "    </tr>\n",
              "    <tr>\n",
              "      <th>2</th>\n",
              "      <td>Grumpier Old Men (1995)</td>\n",
              "      <td>Comedy</td>\n",
              "      <td>4</td>\n",
              "    </tr>\n",
              "    <tr>\n",
              "      <th>3</th>\n",
              "      <td>Waiting to Exhale (1995)</td>\n",
              "      <td>Comedy</td>\n",
              "      <td>4</td>\n",
              "    </tr>\n",
              "    <tr>\n",
              "      <th>4</th>\n",
              "      <td>Father of the Bride Part II (1995)</td>\n",
              "      <td>Comedy</td>\n",
              "      <td>4</td>\n",
              "    </tr>\n",
              "  </tbody>\n",
              "</table>\n",
              "</div>\n",
              "    <div class=\"colab-df-buttons\">\n",
              "\n",
              "  <div class=\"colab-df-container\">\n",
              "    <button class=\"colab-df-convert\" onclick=\"convertToInteractive('df-aebad6ff-bbc2-43ac-9100-b416be3bf2d3')\"\n",
              "            title=\"Convert this dataframe to an interactive table.\"\n",
              "            style=\"display:none;\">\n",
              "\n",
              "  <svg xmlns=\"http://www.w3.org/2000/svg\" height=\"24px\" viewBox=\"0 -960 960 960\">\n",
              "    <path d=\"M120-120v-720h720v720H120Zm60-500h600v-160H180v160Zm220 220h160v-160H400v160Zm0 220h160v-160H400v160ZM180-400h160v-160H180v160Zm440 0h160v-160H620v160ZM180-180h160v-160H180v160Zm440 0h160v-160H620v160Z\"/>\n",
              "  </svg>\n",
              "    </button>\n",
              "\n",
              "  <style>\n",
              "    .colab-df-container {\n",
              "      display:flex;\n",
              "      gap: 12px;\n",
              "    }\n",
              "\n",
              "    .colab-df-convert {\n",
              "      background-color: #E8F0FE;\n",
              "      border: none;\n",
              "      border-radius: 50%;\n",
              "      cursor: pointer;\n",
              "      display: none;\n",
              "      fill: #1967D2;\n",
              "      height: 32px;\n",
              "      padding: 0 0 0 0;\n",
              "      width: 32px;\n",
              "    }\n",
              "\n",
              "    .colab-df-convert:hover {\n",
              "      background-color: #E2EBFA;\n",
              "      box-shadow: 0px 1px 2px rgba(60, 64, 67, 0.3), 0px 1px 3px 1px rgba(60, 64, 67, 0.15);\n",
              "      fill: #174EA6;\n",
              "    }\n",
              "\n",
              "    .colab-df-buttons div {\n",
              "      margin-bottom: 4px;\n",
              "    }\n",
              "\n",
              "    [theme=dark] .colab-df-convert {\n",
              "      background-color: #3B4455;\n",
              "      fill: #D2E3FC;\n",
              "    }\n",
              "\n",
              "    [theme=dark] .colab-df-convert:hover {\n",
              "      background-color: #434B5C;\n",
              "      box-shadow: 0px 1px 3px 1px rgba(0, 0, 0, 0.15);\n",
              "      filter: drop-shadow(0px 1px 2px rgba(0, 0, 0, 0.3));\n",
              "      fill: #FFFFFF;\n",
              "    }\n",
              "  </style>\n",
              "\n",
              "    <script>\n",
              "      const buttonEl =\n",
              "        document.querySelector('#df-aebad6ff-bbc2-43ac-9100-b416be3bf2d3 button.colab-df-convert');\n",
              "      buttonEl.style.display =\n",
              "        google.colab.kernel.accessAllowed ? 'block' : 'none';\n",
              "\n",
              "      async function convertToInteractive(key) {\n",
              "        const element = document.querySelector('#df-aebad6ff-bbc2-43ac-9100-b416be3bf2d3');\n",
              "        const dataTable =\n",
              "          await google.colab.kernel.invokeFunction('convertToInteractive',\n",
              "                                                    [key], {});\n",
              "        if (!dataTable) return;\n",
              "\n",
              "        const docLinkHtml = 'Like what you see? Visit the ' +\n",
              "          '<a target=\"_blank\" href=https://colab.research.google.com/notebooks/data_table.ipynb>data table notebook</a>'\n",
              "          + ' to learn more about interactive tables.';\n",
              "        element.innerHTML = '';\n",
              "        dataTable['output_type'] = 'display_data';\n",
              "        await google.colab.output.renderOutput(dataTable, element);\n",
              "        const docLink = document.createElement('div');\n",
              "        docLink.innerHTML = docLinkHtml;\n",
              "        element.appendChild(docLink);\n",
              "      }\n",
              "    </script>\n",
              "  </div>\n",
              "\n",
              "\n",
              "    <div id=\"df-2f99d350-c9fa-4725-a445-2dae7e1a403d\">\n",
              "      <button class=\"colab-df-quickchart\" onclick=\"quickchart('df-2f99d350-c9fa-4725-a445-2dae7e1a403d')\"\n",
              "                title=\"Suggest charts\"\n",
              "                style=\"display:none;\">\n",
              "\n",
              "<svg xmlns=\"http://www.w3.org/2000/svg\" height=\"24px\"viewBox=\"0 0 24 24\"\n",
              "     width=\"24px\">\n",
              "    <g>\n",
              "        <path d=\"M19 3H5c-1.1 0-2 .9-2 2v14c0 1.1.9 2 2 2h14c1.1 0 2-.9 2-2V5c0-1.1-.9-2-2-2zM9 17H7v-7h2v7zm4 0h-2V7h2v10zm4 0h-2v-4h2v4z\"/>\n",
              "    </g>\n",
              "</svg>\n",
              "      </button>\n",
              "\n",
              "<style>\n",
              "  .colab-df-quickchart {\n",
              "      --bg-color: #E8F0FE;\n",
              "      --fill-color: #1967D2;\n",
              "      --hover-bg-color: #E2EBFA;\n",
              "      --hover-fill-color: #174EA6;\n",
              "      --disabled-fill-color: #AAA;\n",
              "      --disabled-bg-color: #DDD;\n",
              "  }\n",
              "\n",
              "  [theme=dark] .colab-df-quickchart {\n",
              "      --bg-color: #3B4455;\n",
              "      --fill-color: #D2E3FC;\n",
              "      --hover-bg-color: #434B5C;\n",
              "      --hover-fill-color: #FFFFFF;\n",
              "      --disabled-bg-color: #3B4455;\n",
              "      --disabled-fill-color: #666;\n",
              "  }\n",
              "\n",
              "  .colab-df-quickchart {\n",
              "    background-color: var(--bg-color);\n",
              "    border: none;\n",
              "    border-radius: 50%;\n",
              "    cursor: pointer;\n",
              "    display: none;\n",
              "    fill: var(--fill-color);\n",
              "    height: 32px;\n",
              "    padding: 0;\n",
              "    width: 32px;\n",
              "  }\n",
              "\n",
              "  .colab-df-quickchart:hover {\n",
              "    background-color: var(--hover-bg-color);\n",
              "    box-shadow: 0 1px 2px rgba(60, 64, 67, 0.3), 0 1px 3px 1px rgba(60, 64, 67, 0.15);\n",
              "    fill: var(--button-hover-fill-color);\n",
              "  }\n",
              "\n",
              "  .colab-df-quickchart-complete:disabled,\n",
              "  .colab-df-quickchart-complete:disabled:hover {\n",
              "    background-color: var(--disabled-bg-color);\n",
              "    fill: var(--disabled-fill-color);\n",
              "    box-shadow: none;\n",
              "  }\n",
              "\n",
              "  .colab-df-spinner {\n",
              "    border: 2px solid var(--fill-color);\n",
              "    border-color: transparent;\n",
              "    border-bottom-color: var(--fill-color);\n",
              "    animation:\n",
              "      spin 1s steps(1) infinite;\n",
              "  }\n",
              "\n",
              "  @keyframes spin {\n",
              "    0% {\n",
              "      border-color: transparent;\n",
              "      border-bottom-color: var(--fill-color);\n",
              "      border-left-color: var(--fill-color);\n",
              "    }\n",
              "    20% {\n",
              "      border-color: transparent;\n",
              "      border-left-color: var(--fill-color);\n",
              "      border-top-color: var(--fill-color);\n",
              "    }\n",
              "    30% {\n",
              "      border-color: transparent;\n",
              "      border-left-color: var(--fill-color);\n",
              "      border-top-color: var(--fill-color);\n",
              "      border-right-color: var(--fill-color);\n",
              "    }\n",
              "    40% {\n",
              "      border-color: transparent;\n",
              "      border-right-color: var(--fill-color);\n",
              "      border-top-color: var(--fill-color);\n",
              "    }\n",
              "    60% {\n",
              "      border-color: transparent;\n",
              "      border-right-color: var(--fill-color);\n",
              "    }\n",
              "    80% {\n",
              "      border-color: transparent;\n",
              "      border-right-color: var(--fill-color);\n",
              "      border-bottom-color: var(--fill-color);\n",
              "    }\n",
              "    90% {\n",
              "      border-color: transparent;\n",
              "      border-bottom-color: var(--fill-color);\n",
              "    }\n",
              "  }\n",
              "</style>\n",
              "\n",
              "      <script>\n",
              "        async function quickchart(key) {\n",
              "          const quickchartButtonEl =\n",
              "            document.querySelector('#' + key + ' button');\n",
              "          quickchartButtonEl.disabled = true;  // To prevent multiple clicks.\n",
              "          quickchartButtonEl.classList.add('colab-df-spinner');\n",
              "          try {\n",
              "            const charts = await google.colab.kernel.invokeFunction(\n",
              "                'suggestCharts', [key], {});\n",
              "          } catch (error) {\n",
              "            console.error('Error during call to suggestCharts:', error);\n",
              "          }\n",
              "          quickchartButtonEl.classList.remove('colab-df-spinner');\n",
              "          quickchartButtonEl.classList.add('colab-df-quickchart-complete');\n",
              "        }\n",
              "        (() => {\n",
              "          let quickchartButtonEl =\n",
              "            document.querySelector('#df-2f99d350-c9fa-4725-a445-2dae7e1a403d button');\n",
              "          quickchartButtonEl.style.display =\n",
              "            google.colab.kernel.accessAllowed ? 'block' : 'none';\n",
              "        })();\n",
              "      </script>\n",
              "    </div>\n",
              "\n",
              "    </div>\n",
              "  </div>\n"
            ],
            "application/vnd.google.colaboratory.intrinsic+json": {
              "type": "dataframe",
              "summary": "{\n  \"name\": \"movies[['title', 'main_genre', 'genre_id']]\",\n  \"rows\": 5,\n  \"fields\": [\n    {\n      \"column\": \"title\",\n      \"properties\": {\n        \"dtype\": \"string\",\n        \"num_unique_values\": 5,\n        \"samples\": [\n          \"Jumanji (1995)\",\n          \"Father of the Bride Part II (1995)\",\n          \"Grumpier Old Men (1995)\"\n        ],\n        \"semantic_type\": \"\",\n        \"description\": \"\"\n      }\n    },\n    {\n      \"column\": \"main_genre\",\n      \"properties\": {\n        \"dtype\": \"string\",\n        \"num_unique_values\": 3,\n        \"samples\": [\n          \"Animation\",\n          \"Adventure\",\n          \"Comedy\"\n        ],\n        \"semantic_type\": \"\",\n        \"description\": \"\"\n      }\n    },\n    {\n      \"column\": \"genre_id\",\n      \"properties\": {\n        \"dtype\": \"number\",\n        \"std\": 1,\n        \"min\": 1,\n        \"max\": 4,\n        \"num_unique_values\": 3,\n        \"samples\": [\n          2,\n          1,\n          4\n        ],\n        \"semantic_type\": \"\",\n        \"description\": \"\"\n      }\n    }\n  ]\n}"
            }
          },
          "metadata": {},
          "execution_count": 4
        }
      ]
    },
    {
      "cell_type": "code",
      "source": [
        "print(\"Unikalnych użytkowników:\", ratings['userId'].nunique())\n",
        "print(\"Unikalnych filmów:\", ratings['movieId'].nunique())\n",
        "print(\"Liczb ocen:\", len(ratings))\n"
      ],
      "metadata": {
        "colab": {
          "base_uri": "https://localhost:8080/"
        },
        "id": "s_wXDBR-gXIe",
        "outputId": "696b37f1-51cd-4376-f469-3e3b4a18fbba"
      },
      "execution_count": null,
      "outputs": [
        {
          "output_type": "stream",
          "name": "stdout",
          "text": [
            "Unikalnych użytkowników: 6040\n",
            "Unikalnych filmów: 3706\n",
            "Liczb ocen: 1000209\n"
          ]
        }
      ]
    },
    {
      "cell_type": "markdown",
      "source": [
        "## 🎯 Filtrowanie filmów ocenionych zbyt rzadko\n",
        "\n",
        "Wielu filmów nikt prawie nie ocenił – a model nie ma szans nauczyć się ich preferencji.  \n",
        "Dlatego zachowujemy tylko filmy, które zostały ocenione przez **co najmniej 25 użytkowników**.  \n",
        "Dzięki temu eliminujemy przypadki, które mogą pogorszyć jakość rekomendacji.\n"
      ],
      "metadata": {
        "id": "csy34EAo31ie"
      }
    },
    {
      "cell_type": "code",
      "source": [
        "movie_counts = ratings['movieId'].value_counts()\n",
        "popular_movies = movie_counts[movie_counts >= 25].index\n",
        "filtered_ratings = ratings[ratings['movieId'].isin(popular_movies)]\n",
        "\n",
        "\n",
        "print(f\"Filmow po filtracji: {filtered_ratings['movieId'].nunique()}\")"
      ],
      "metadata": {
        "colab": {
          "base_uri": "https://localhost:8080/"
        },
        "id": "0JRGkqGDgX0I",
        "outputId": "5fa80cd6-78cd-493b-8d21-955649cb7267"
      },
      "execution_count": null,
      "outputs": [
        {
          "output_type": "stream",
          "name": "stdout",
          "text": [
            "Filmow po filtracji: 2934\n"
          ]
        }
      ]
    },
    {
      "cell_type": "markdown",
      "source": [
        "## 🙋‍♀️ Filtrowanie użytkowników o niskiej aktywności\n",
        "\n",
        "Użytkownicy, którzy ocenili tylko kilka filmów, nie dostarczają wystarczającej liczby danych, by można było ich profilować.  \n",
        "Zachowujemy więc tylko tych użytkowników, którzy ocenili **co najmniej 7 filmów**.\n"
      ],
      "metadata": {
        "id": "dD2qxK3Q3QDR"
      }
    },
    {
      "cell_type": "code",
      "source": [
        "user_counts = filtered_ratings['userId'].value_counts()\n",
        "active_users = user_counts[user_counts >= 7].index\n",
        "filtered_ratings = filtered_ratings[filtered_ratings['userId'].isin(active_users)]\n"
      ],
      "metadata": {
        "id": "w5RYh32BgYeD"
      },
      "execution_count": null,
      "outputs": []
    },
    {
      "cell_type": "code",
      "source": [
        "print(f\"Zostało ocen: {len(filtered_ratings)}\")\n"
      ],
      "metadata": {
        "colab": {
          "base_uri": "https://localhost:8080/"
        },
        "id": "BrnamuThgZBH",
        "outputId": "db68883d-881f-43f8-c612-5f7efb8b8958"
      },
      "execution_count": null,
      "outputs": [
        {
          "output_type": "stream",
          "name": "stdout",
          "text": [
            "Zostało ocen: 993114\n"
          ]
        }
      ]
    },
    {
      "cell_type": "markdown",
      "source": [
        "## 📊 Rozkład ocen w zbiorze\n",
        "\n",
        "Przed dalszym przetwarzaniem warto przyjrzeć się rozkładowi ocen.  \n",
        "Histogram poniżej pokazuje, które oceny są najczęstsze – zwykle dominują wysokie (4 i 5)."
      ],
      "metadata": {
        "id": "Hc7996nm3FBK"
      }
    },
    {
      "cell_type": "markdown",
      "source": [],
      "metadata": {
        "id": "uKiEtixH3Boj"
      }
    },
    {
      "cell_type": "code",
      "source": [
        "plt.figure(figsize=(8, 5))\n",
        "ratings['rating'].hist(bins=9, edgecolor='black')\n",
        "plt.title('Histogram ocen w zbiorze MovieLens')\n",
        "plt.xlabel('Ocena')\n",
        "plt.ylabel('Liczba wystąpień')\n",
        "plt.grid(True)\n",
        "plt.show()\n"
      ],
      "metadata": {
        "colab": {
          "base_uri": "https://localhost:8080/",
          "height": 487
        },
        "id": "TjD0fmoY19RP",
        "outputId": "ec3991b9-96a6-4e87-b21c-41db783f778d"
      },
      "execution_count": null,
      "outputs": [
        {
          "output_type": "display_data",
          "data": {
            "text/plain": [
              "<Figure size 800x500 with 1 Axes>"
            ],
            "image/png": "[encoded data removed]"
          },
          "metadata": {}
        }
      ]
    },
    {
      "cell_type": "markdown",
      "source": [
        "## 📊 Finalnie dane wyglądają nastepujaco\n",
        "\n"
      ],
      "metadata": {
        "id": "Kw1RfRhtbv-K"
      }
    },
    {
      "cell_type": "code",
      "source": [
        "print(\"Finalne dane:\")\n",
        "print(\"Użytkownicy:\", data['userId'].nunique())\n",
        "print(\"Filmy:\", data['movieId'].nunique())\n",
        "print(\"Oceny:\", len(data))\n"
      ],
      "metadata": {
        "colab": {
          "base_uri": "https://localhost:8080/"
        },
        "id": "8qoMxXzR1146",
        "outputId": "b9ff45dc-6eea-4d57-cb5b-4b320bcd74d7"
      },
      "execution_count": null,
      "outputs": [
        {
          "output_type": "stream",
          "name": "stdout",
          "text": [
            "Finalne dane:\n",
            "Użytkownicy: 5027\n",
            "Filmy: 2934\n",
            "Oceny: 843152\n"
          ]
        }
      ]
    },
    {
      "cell_type": "code",
      "source": [
        "user_ids = data['userId'].astype('category').cat.codes.values\n",
        "movie_ids = data['movieId'].astype('category').cat.codes.values\n",
        "genre_ids = data['genre_id'].values\n",
        "ratings = data['rating'].values\n",
        "\n",
        "\n",
        "\n",
        "X = np.stack([user_ids, movie_ids, genre_ids], axis=1)\n",
        "y = ratings\n",
        "\n",
        "\n",
        "n_users = len(np.unique(X[:, 0]))\n",
        "n_movies = len(np.unique(X[:, 1]))\n",
        "n_genres = len(np.unique(X[:, 2]))\n"
      ],
      "metadata": {
        "id": "kdW63NYAgZmS"
      },
      "execution_count": null,
      "outputs": []
    },
    {
      "cell_type": "code",
      "source": [
        "\n",
        "\n",
        "X_train, X_test, y_train, y_test = train_test_split(X, y, test_size=0.2, random_state=42)\n",
        "X_train, X_val, y_train, y_val = train_test_split(X_train, y_train, test_size=0.2, random_state=42)"
      ],
      "metadata": {
        "id": "usgG6NjygaKa"
      },
      "execution_count": null,
      "outputs": []
    },
    {
      "cell_type": "code",
      "source": [
        "import tensorflow.keras.backend as K\n",
        "\n",
        "def root_mean_squared_error(y_true, y_pred):\n",
        "    return K.sqrt(K.mean(K.square(y_pred - y_true)))\n"
      ],
      "metadata": {
        "id": "wPZrPopKsibM"
      },
      "execution_count": null,
      "outputs": []
    },
    {
      "cell_type": "markdown",
      "source": [
        "### 🔧 Model NeuMF z embeddingiem gatunku\n",
        "\n",
        "Model łączy dwa podejścia:\n",
        "\n",
        "- **GMF (Generalized Matrix Factorization)** – liniowa interakcja między użytkownikiem a filmem poprzez iloczyn ich embeddingów.\n",
        "- **MLP (Multilayer Perceptron)** – nieliniowe zależności modelowane przez sieć neuronową z warstwami Dense, ReLU, BatchNormalization i Dropout.\n",
        "\n",
        "Dodatkowo model uwzględnia **embedding gatunku filmu**, który jest dołączany do połączonego wektora GMF i MLP.\n",
        "\n",
        "Na końcu warstwa Dense przewiduje ocenę użytkownika dla filmu.\n"
      ],
      "metadata": {
        "id": "r0y03W0ocCua"
      }
    },
    {
      "cell_type": "code",
      "source": [
        "embedding_size = 32\n",
        "\n",
        "\n",
        "user_input = Input(shape=(1,))\n",
        "movie_input = Input(shape=(1,))\n",
        "genre_input = Input(shape=(1,))\n",
        "\n",
        "user_emb_gmf = Embedding(n_users, embedding_size)(user_input)\n",
        "movie_emb_gmf = Embedding(n_movies, embedding_size)(movie_input)\n",
        "gmf_vector = Multiply()([user_emb_gmf, movie_emb_gmf])\n",
        "gmf_vector = Flatten()(gmf_vector)\n",
        "\n",
        "user_emb_mlp = Embedding(n_users, embedding_size)(user_input)\n",
        "movie_emb_mlp = Embedding(n_movies, embedding_size)(movie_input)\n",
        "mlp_vector = Concatenate()([user_emb_mlp, movie_emb_mlp])\n",
        "mlp_vector = Flatten()(mlp_vector)\n",
        "mlp_vector = Dense(32, activation='relu', kernel_regularizer=l2(1e-6))(mlp_vector)\n",
        "mlp_vector = BatchNormalization()(mlp_vector)\n",
        "mlp_vector = Dropout(0.5)(mlp_vector)\n",
        "mlp_vector = Dense(16, activation='relu', kernel_regularizer=l2(1e-6))(mlp_vector)\n",
        "mlp_vector = BatchNormalization()(mlp_vector)\n",
        "mlp_vector = Dropout(0.4)(mlp_vector)\n",
        "\n",
        "\n",
        "genre_emb = Embedding(n_genres, 8)(genre_input)\n",
        "genre_emb = Flatten()(genre_emb)\n",
        "\n",
        "neu_vector = Concatenate()([gmf_vector, mlp_vector, genre_emb])\n",
        "neu_output = Dense(1)(neu_vector)\n",
        "\n",
        "model = Model(inputs=[user_input, movie_input, genre_input], outputs=neu_output)\n",
        "from tensorflow.keras.optimizers import Adam\n",
        "optimizer = Adam(learning_rate=0.00005)\n",
        "model.compile(optimizer=optimizer, loss=root_mean_squared_error, metrics=['mae'])\n",
        "\n"
      ],
      "metadata": {
        "id": "3iYeC0NdgaxF"
      },
      "execution_count": null,
      "outputs": []
    },
    {
      "cell_type": "markdown",
      "source": [],
      "metadata": {
        "id": "xk8X4gPbcB0U"
      }
    },
    {
      "cell_type": "code",
      "source": [
        "es = EarlyStopping(\n",
        "    monitor='val_loss',\n",
        "    patience=4,\n",
        "    restore_best_weights=True\n",
        ")\n"
      ],
      "metadata": {
        "id": "CmOX3P4rgbYu"
      },
      "execution_count": null,
      "outputs": []
    },
    {
      "cell_type": "code",
      "source": [
        "history = model.fit(\n",
        "    [X_train[:, 0], X_train[:, 1], X_train[:, 2]],\n",
        "    y_train,\n",
        "    validation_data=([X_val[:, 0], X_val[:, 1], X_val[:, 2]], y_val),\n",
        "    epochs=100,\n",
        "    batch_size=512,\n",
        "    callbacks=[es],\n",
        "    verbose=1\n",
        ")\n",
        "\n",
        "print(\"Wytrenowano epok:\", len(history.history['loss']))"
      ],
      "metadata": {
        "colab": {
          "base_uri": "https://localhost:8080/"
        },
        "id": "qw78WnpNgcUm",
        "outputId": "c4bfa9b5-1ebc-48c3-a0a0-fb73fc82587c"
      },
      "execution_count": null,
      "outputs": [
        {
          "output_type": "stream",
          "name": "stdout",
          "text": [
            "Epoch 1/100\n",
            "\u001b[1m1054/1054\u001b[0m \u001b[32m━━━━━━━━━━━━━━━━━━━━\u001b[0m\u001b[37m\u001b[0m \u001b[1m14s\u001b[0m 7ms/step - loss: 3.6679 - mae: 3.4153 - val_loss: 2.7819 - val_mae: 2.5659\n",
            "Epoch 2/100\n",
            "\u001b[1m1054/1054\u001b[0m \u001b[32m━━━━━━━━━━━━━━━━━━━━\u001b[0m\u001b[37m\u001b[0m \u001b[1m14s\u001b[0m 4ms/step - loss: 2.4502 - mae: 2.1656 - val_loss: 1.5983 - val_mae: 1.3144\n",
            "Epoch 3/100\n",
            "\u001b[1m1054/1054\u001b[0m \u001b[32m━━━━━━━━━━━━━━━━━━━━\u001b[0m\u001b[37m\u001b[0m \u001b[1m5s\u001b[0m 3ms/step - loss: 1.4934 - mae: 1.2027 - val_loss: 1.1003 - val_mae: 0.8894\n",
            "Epoch 4/100\n",
            "\u001b[1m1054/1054\u001b[0m \u001b[32m━━━━━━━━━━━━━━━━━━━━\u001b[0m\u001b[37m\u001b[0m \u001b[1m6s\u001b[0m 4ms/step - loss: 1.1529 - mae: 0.9193 - val_loss: 0.9592 - val_mae: 0.7736\n",
            "Epoch 5/100\n",
            "\u001b[1m1054/1054\u001b[0m \u001b[32m━━━━━━━━━━━━━━━━━━━━\u001b[0m\u001b[37m\u001b[0m \u001b[1m4s\u001b[0m 3ms/step - loss: 1.0306 - mae: 0.8220 - val_loss: 0.9124 - val_mae: 0.7331\n",
            "Epoch 6/100\n",
            "\u001b[1m1054/1054\u001b[0m \u001b[32m━━━━━━━━━━━━━━━━━━━━\u001b[0m\u001b[37m\u001b[0m \u001b[1m5s\u001b[0m 3ms/step - loss: 0.9731 - mae: 0.7761 - val_loss: 0.8902 - val_mae: 0.7129\n",
            "Epoch 7/100\n",
            "\u001b[1m1054/1054\u001b[0m \u001b[32m━━━━━━━━━━━━━━━━━━━━\u001b[0m\u001b[37m\u001b[0m \u001b[1m9s\u001b[0m 7ms/step - loss: 0.9407 - mae: 0.7487 - val_loss: 0.8772 - val_mae: 0.7006\n",
            "Epoch 8/100\n",
            "\u001b[1m1054/1054\u001b[0m \u001b[32m━━━━━━━━━━━━━━━━━━━━\u001b[0m\u001b[37m\u001b[0m \u001b[1m4s\u001b[0m 3ms/step - loss: 0.9212 - mae: 0.7334 - val_loss: 0.8704 - val_mae: 0.6945\n",
            "Epoch 9/100\n",
            "\u001b[1m1054/1054\u001b[0m \u001b[32m━━━━━━━━━━━━━━━━━━━━\u001b[0m\u001b[37m\u001b[0m \u001b[1m6s\u001b[0m 4ms/step - loss: 0.9073 - mae: 0.7217 - val_loss: 0.8660 - val_mae: 0.6902\n",
            "Epoch 10/100\n",
            "\u001b[1m1054/1054\u001b[0m \u001b[32m━━━━━━━━━━━━━━━━━━━━\u001b[0m\u001b[37m\u001b[0m \u001b[1m4s\u001b[0m 3ms/step - loss: 0.8982 - mae: 0.7150 - val_loss: 0.8631 - val_mae: 0.6870\n",
            "Epoch 11/100\n",
            "\u001b[1m1054/1054\u001b[0m \u001b[32m━━━━━━━━━━━━━━━━━━━━\u001b[0m\u001b[37m\u001b[0m \u001b[1m7s\u001b[0m 5ms/step - loss: 0.8906 - mae: 0.7085 - val_loss: 0.8612 - val_mae: 0.6852\n",
            "Epoch 12/100\n",
            "\u001b[1m1054/1054\u001b[0m \u001b[32m━━━━━━━━━━━━━━━━━━━━\u001b[0m\u001b[37m\u001b[0m \u001b[1m4s\u001b[0m 3ms/step - loss: 0.8859 - mae: 0.7043 - val_loss: 0.8594 - val_mae: 0.6829\n",
            "Epoch 13/100\n",
            "\u001b[1m1054/1054\u001b[0m \u001b[32m━━━━━━━━━━━━━━━━━━━━\u001b[0m\u001b[37m\u001b[0m \u001b[1m4s\u001b[0m 3ms/step - loss: 0.8831 - mae: 0.7015 - val_loss: 0.8579 - val_mae: 0.6813\n",
            "Epoch 14/100\n",
            "\u001b[1m1054/1054\u001b[0m \u001b[32m━━━━━━━━━━━━━━━━━━━━\u001b[0m\u001b[37m\u001b[0m \u001b[1m6s\u001b[0m 4ms/step - loss: 0.8779 - mae: 0.6973 - val_loss: 0.8571 - val_mae: 0.6808\n",
            "Epoch 15/100\n",
            "\u001b[1m1054/1054\u001b[0m \u001b[32m━━━━━━━━━━━━━━━━━━━━\u001b[0m\u001b[37m\u001b[0m \u001b[1m4s\u001b[0m 3ms/step - loss: 0.8743 - mae: 0.6941 - val_loss: 0.8561 - val_mae: 0.6796\n",
            "Epoch 16/100\n",
            "\u001b[1m1054/1054\u001b[0m \u001b[32m━━━━━━━━━━━━━━━━━━━━\u001b[0m\u001b[37m\u001b[0m \u001b[1m4s\u001b[0m 3ms/step - loss: 0.8719 - mae: 0.6923 - val_loss: 0.8548 - val_mae: 0.6778\n",
            "Epoch 17/100\n",
            "\u001b[1m1054/1054\u001b[0m \u001b[32m━━━━━━━━━━━━━━━━━━━━\u001b[0m\u001b[37m\u001b[0m \u001b[1m4s\u001b[0m 4ms/step - loss: 0.8679 - mae: 0.6889 - val_loss: 0.8539 - val_mae: 0.6766\n",
            "Epoch 18/100\n",
            "\u001b[1m1054/1054\u001b[0m \u001b[32m━━━━━━━━━━━━━━━━━━━━\u001b[0m\u001b[37m\u001b[0m \u001b[1m4s\u001b[0m 4ms/step - loss: 0.8626 - mae: 0.6844 - val_loss: 0.8527 - val_mae: 0.6752\n",
            "Epoch 19/100\n",
            "\u001b[1m1054/1054\u001b[0m \u001b[32m━━━━━━━━━━━━━━━━━━━━\u001b[0m\u001b[37m\u001b[0m \u001b[1m5s\u001b[0m 3ms/step - loss: 0.8604 - mae: 0.6820 - val_loss: 0.8520 - val_mae: 0.6749\n",
            "Epoch 20/100\n",
            "\u001b[1m1054/1054\u001b[0m \u001b[32m━━━━━━━━━━━━━━━━━━━━\u001b[0m\u001b[37m\u001b[0m \u001b[1m5s\u001b[0m 4ms/step - loss: 0.8575 - mae: 0.6794 - val_loss: 0.8507 - val_mae: 0.6733\n",
            "Epoch 21/100\n",
            "\u001b[1m1054/1054\u001b[0m \u001b[32m━━━━━━━━━━━━━━━━━━━━\u001b[0m\u001b[37m\u001b[0m \u001b[1m4s\u001b[0m 3ms/step - loss: 0.8529 - mae: 0.6760 - val_loss: 0.8495 - val_mae: 0.6716\n",
            "Epoch 22/100\n",
            "\u001b[1m1054/1054\u001b[0m \u001b[32m━━━━━━━━━━━━━━━━━━━━\u001b[0m\u001b[37m\u001b[0m \u001b[1m6s\u001b[0m 4ms/step - loss: 0.8506 - mae: 0.6731 - val_loss: 0.8488 - val_mae: 0.6711\n",
            "Epoch 23/100\n",
            "\u001b[1m1054/1054\u001b[0m \u001b[32m━━━━━━━━━━━━━━━━━━━━\u001b[0m\u001b[37m\u001b[0m \u001b[1m4s\u001b[0m 3ms/step - loss: 0.8476 - mae: 0.6703 - val_loss: 0.8478 - val_mae: 0.6700\n",
            "Epoch 24/100\n",
            "\u001b[1m1054/1054\u001b[0m \u001b[32m━━━━━━━━━━━━━━━━━━━━\u001b[0m\u001b[37m\u001b[0m \u001b[1m4s\u001b[0m 3ms/step - loss: 0.8438 - mae: 0.6676 - val_loss: 0.8465 - val_mae: 0.6685\n",
            "Epoch 25/100\n",
            "\u001b[1m1054/1054\u001b[0m \u001b[32m━━━━━━━━━━━━━━━━━━━━\u001b[0m\u001b[37m\u001b[0m \u001b[1m5s\u001b[0m 4ms/step - loss: 0.8409 - mae: 0.6651 - val_loss: 0.8455 - val_mae: 0.6675\n",
            "Epoch 26/100\n",
            "\u001b[1m1054/1054\u001b[0m \u001b[32m━━━━━━━━━━━━━━━━━━━━\u001b[0m\u001b[37m\u001b[0m \u001b[1m4s\u001b[0m 3ms/step - loss: 0.8371 - mae: 0.6614 - val_loss: 0.8444 - val_mae: 0.6664\n",
            "Epoch 27/100\n",
            "\u001b[1m1054/1054\u001b[0m \u001b[32m━━━━━━━━━━━━━━━━━━━━\u001b[0m\u001b[37m\u001b[0m \u001b[1m4s\u001b[0m 3ms/step - loss: 0.8345 - mae: 0.6594 - val_loss: 0.8436 - val_mae: 0.6654\n",
            "Epoch 28/100\n",
            "\u001b[1m1054/1054\u001b[0m \u001b[32m━━━━━━━━━━━━━━━━━━━━\u001b[0m\u001b[37m\u001b[0m \u001b[1m6s\u001b[0m 4ms/step - loss: 0.8294 - mae: 0.6554 - val_loss: 0.8425 - val_mae: 0.6646\n",
            "Epoch 29/100\n",
            "\u001b[1m1054/1054\u001b[0m \u001b[32m━━━━━━━━━━━━━━━━━━━━\u001b[0m\u001b[37m\u001b[0m \u001b[1m4s\u001b[0m 3ms/step - loss: 0.8246 - mae: 0.6515 - val_loss: 0.8417 - val_mae: 0.6636\n",
            "Epoch 30/100\n",
            "\u001b[1m1054/1054\u001b[0m \u001b[32m━━━━━━━━━━━━━━━━━━━━\u001b[0m\u001b[37m\u001b[0m \u001b[1m5s\u001b[0m 3ms/step - loss: 0.8217 - mae: 0.6486 - val_loss: 0.8407 - val_mae: 0.6631\n",
            "Epoch 31/100\n",
            "\u001b[1m1054/1054\u001b[0m \u001b[32m━━━━━━━━━━━━━━━━━━━━\u001b[0m\u001b[37m\u001b[0m \u001b[1m4s\u001b[0m 4ms/step - loss: 0.8165 - mae: 0.6444 - val_loss: 0.8398 - val_mae: 0.6624\n",
            "Epoch 32/100\n",
            "\u001b[1m1054/1054\u001b[0m \u001b[32m━━━━━━━━━━━━━━━━━━━━\u001b[0m\u001b[37m\u001b[0m \u001b[1m4s\u001b[0m 3ms/step - loss: 0.8131 - mae: 0.6426 - val_loss: 0.8391 - val_mae: 0.6617\n",
            "Epoch 33/100\n",
            "\u001b[1m1054/1054\u001b[0m \u001b[32m━━━━━━━━━━━━━━━━━━━━\u001b[0m\u001b[37m\u001b[0m \u001b[1m4s\u001b[0m 3ms/step - loss: 0.8091 - mae: 0.6380 - val_loss: 0.8382 - val_mae: 0.6606\n",
            "Epoch 34/100\n",
            "\u001b[1m1054/1054\u001b[0m \u001b[32m━━━━━━━━━━━━━━━━━━━━\u001b[0m\u001b[37m\u001b[0m \u001b[1m6s\u001b[0m 4ms/step - loss: 0.8046 - mae: 0.6346 - val_loss: 0.8375 - val_mae: 0.6606\n",
            "Epoch 35/100\n",
            "\u001b[1m1054/1054\u001b[0m \u001b[32m━━━━━━━━━━━━━━━━━━━━\u001b[0m\u001b[37m\u001b[0m \u001b[1m4s\u001b[0m 3ms/step - loss: 0.8008 - mae: 0.6316 - val_loss: 0.8369 - val_mae: 0.6596\n",
            "Epoch 36/100\n",
            "\u001b[1m1054/1054\u001b[0m \u001b[32m━━━━━━━━━━━━━━━━━━━━\u001b[0m\u001b[37m\u001b[0m \u001b[1m4s\u001b[0m 3ms/step - loss: 0.7983 - mae: 0.6296 - val_loss: 0.8363 - val_mae: 0.6594\n",
            "Epoch 37/100\n",
            "\u001b[1m1054/1054\u001b[0m \u001b[32m━━━━━━━━━━━━━━━━━━━━\u001b[0m\u001b[37m\u001b[0m \u001b[1m5s\u001b[0m 4ms/step - loss: 0.7920 - mae: 0.6244 - val_loss: 0.8359 - val_mae: 0.6590\n",
            "Epoch 38/100\n",
            "\u001b[1m1054/1054\u001b[0m \u001b[32m━━━━━━━━━━━━━━━━━━━━\u001b[0m\u001b[37m\u001b[0m \u001b[1m5s\u001b[0m 3ms/step - loss: 0.7889 - mae: 0.6224 - val_loss: 0.8355 - val_mae: 0.6586\n",
            "Epoch 39/100\n",
            "\u001b[1m1054/1054\u001b[0m \u001b[32m━━━━━━━━━━━━━━━━━━━━\u001b[0m\u001b[37m\u001b[0m \u001b[1m4s\u001b[0m 4ms/step - loss: 0.7852 - mae: 0.6193 - val_loss: 0.8353 - val_mae: 0.6585\n",
            "Epoch 40/100\n",
            "\u001b[1m1054/1054\u001b[0m \u001b[32m━━━━━━━━━━━━━━━━━━━━\u001b[0m\u001b[37m\u001b[0m \u001b[1m4s\u001b[0m 3ms/step - loss: 0.7814 - mae: 0.6160 - val_loss: 0.8352 - val_mae: 0.6585\n",
            "Epoch 41/100\n",
            "\u001b[1m1054/1054\u001b[0m \u001b[32m━━━━━━━━━━━━━━━━━━━━\u001b[0m\u001b[37m\u001b[0m \u001b[1m4s\u001b[0m 3ms/step - loss: 0.7761 - mae: 0.6120 - val_loss: 0.8351 - val_mae: 0.6586\n",
            "Epoch 42/100\n",
            "\u001b[1m1054/1054\u001b[0m \u001b[32m━━━━━━━━━━━━━━━━━━━━\u001b[0m\u001b[37m\u001b[0m \u001b[1m4s\u001b[0m 4ms/step - loss: 0.7733 - mae: 0.6097 - val_loss: 0.8350 - val_mae: 0.6582\n",
            "Epoch 43/100\n",
            "\u001b[1m1054/1054\u001b[0m \u001b[32m━━━━━━━━━━━━━━━━━━━━\u001b[0m\u001b[37m\u001b[0m \u001b[1m4s\u001b[0m 3ms/step - loss: 0.7696 - mae: 0.6068 - val_loss: 0.8351 - val_mae: 0.6584\n",
            "Epoch 44/100\n",
            "\u001b[1m1054/1054\u001b[0m \u001b[32m━━━━━━━━━━━━━━━━━━━━\u001b[0m\u001b[37m\u001b[0m \u001b[1m4s\u001b[0m 3ms/step - loss: 0.7644 - mae: 0.6022 - val_loss: 0.8352 - val_mae: 0.6584\n",
            "Epoch 45/100\n",
            "\u001b[1m1054/1054\u001b[0m \u001b[32m━━━━━━━━━━━━━━━━━━━━\u001b[0m\u001b[37m\u001b[0m \u001b[1m4s\u001b[0m 4ms/step - loss: 0.7603 - mae: 0.5991 - val_loss: 0.8353 - val_mae: 0.6586\n",
            "Epoch 46/100\n",
            "\u001b[1m1054/1054\u001b[0m \u001b[32m━━━━━━━━━━━━━━━━━━━━\u001b[0m\u001b[37m\u001b[0m \u001b[1m4s\u001b[0m 3ms/step - loss: 0.7564 - mae: 0.5960 - val_loss: 0.8357 - val_mae: 0.6588\n",
            "Wytrenowano epok: 46\n"
          ]
        }
      ]
    },
    {
      "cell_type": "code",
      "source": [
        "pred_val = model.predict([X_val[:, 0], X_val[:, 1], X_val[:, 2]]).flatten()\n",
        "rmse_val = np.sqrt(mean_squared_error(y_val, pred_val))\n",
        "mae_val = mean_absolute_error(y_val, pred_val)\n",
        "\n",
        "print(f\"Validation RMSE: {rmse_val:.3f}\")\n",
        "print(f\"Validation MAE: {mae_val:.3f}\")\n",
        "\n",
        "plt.plot(history.history['loss'], label='Train Loss (MSE)')\n",
        "plt.plot(history.history['val_loss'], label='Val Loss (MSE)')\n",
        "plt.xlabel(\"Epoka\")\n",
        "plt.ylabel(\"MSE\")\n",
        "plt.title(\"Krzywe uczenia (NeuMF + gatunek)\")\n",
        "plt.legend()\n",
        "plt.grid(True)\n",
        "plt.show()\n"
      ],
      "metadata": {
        "colab": {
          "base_uri": "https://localhost:8080/",
          "height": 527
        },
        "id": "WT52vyw0gc_p",
        "outputId": "a174b92d-38c6-41e0-8f69-30bda17208c6"
      },
      "execution_count": null,
      "outputs": [
        {
          "output_type": "stream",
          "name": "stdout",
          "text": [
            "\u001b[1m4216/4216\u001b[0m \u001b[32m━━━━━━━━━━━━━━━━━━━━\u001b[0m\u001b[37m\u001b[0m \u001b[1m8s\u001b[0m 2ms/step\n",
            "Validation RMSE: 0.836\n",
            "Validation MAE: 0.658\n"
          ]
        },
        {
          "output_type": "display_data",
          "data": {
            "text/plain": [
              "<Figure size 640x480 with 1 Axes>"
            ],
            "image/png": "[encoded data removed]"
          },
          "metadata": {}
        }
      ]
    },
    {
      "cell_type": "code",
      "source": [
        "pred_test = model.predict([X_test[:, 0], X_test[:, 1], X_test[:, 2]]).flatten()\n",
        "rmse_test = np.sqrt(mean_squared_error(y_test, pred_test))\n",
        "mae_test = mean_absolute_error(y_test, pred_test)\n",
        "\n",
        "print(f\"Test RMSE: {rmse_test:.3f}\")\n",
        "print(f\"Test MAE: {mae_test:.3f}\")"
      ],
      "metadata": {
        "colab": {
          "base_uri": "https://localhost:8080/"
        },
        "id": "DyPu1fOMqC-E",
        "outputId": "2640312c-1edd-4942-e725-447427d2ec1e"
      },
      "execution_count": null,
      "outputs": [
        {
          "output_type": "stream",
          "name": "stdout",
          "text": [
            "\u001b[1m5270/5270\u001b[0m \u001b[32m━━━━━━━━━━━━━━━━━━━━\u001b[0m\u001b[37m\u001b[0m \u001b[1m9s\u001b[0m 2ms/step\n",
            "Test RMSE: 0.836\n",
            "Test MAE: 0.660\n"
          ]
        }
      ]
    },
    {
      "cell_type": "code",
      "source": [
        "errors = y_test - pred_test\n",
        "plt.figure(figsize=(8, 4))\n",
        "sns.histplot(errors, kde=True, bins=40, color='coral')\n",
        "plt.title(\"Rozkład błędów predykcji (y_true - y_pred)\")\n",
        "plt.xlabel(\"Błąd\")\n",
        "plt.grid(True)\n",
        "plt.show()\n"
      ],
      "metadata": {
        "colab": {
          "base_uri": "https://localhost:8080/",
          "height": 411
        },
        "id": "5oEdexGr4Nv1",
        "outputId": "00512018-f110-48ed-cd7d-5b70e731e15a"
      },
      "execution_count": null,
      "outputs": [
        {
          "output_type": "display_data",
          "data": {
            "text/plain": [
              "<Figure size 800x400 with 1 Axes>"
            ],
            "image/png": "[encoded data removed]"
          },
          "metadata": {}
        }
      ]
    },
    {
      "cell_type": "code",
      "source": [
        "#zapisanie modelu\n",
        "\n",
        "\n",
        "model.save(\"best_model.h5\")"
      ],
      "metadata": {
        "colab": {
          "base_uri": "https://localhost:8080/"
        },
        "id": "EYNRYKyKigOT",
        "outputId": "b32448c0-8354-451b-ee12-cd5aba762c71"
      },
      "execution_count": null,
      "outputs": [
        {
          "output_type": "stream",
          "name": "stderr",
          "text": [
            "WARNING:absl:You are saving your model as an HDF5 file via `model.save()` or `keras.saving.save_model(model)`. This file format is considered legacy. We recommend using instead the native Keras format, e.g. `model.save('my_model.keras')` or `keras.saving.save_model(model, 'my_model.keras')`. \n"
          ]
        }
      ]
    },
    {
      "cell_type": "code",
      "source": [
        "\n",
        "#  Tworzenie mapowań ID\n",
        "# Mapujemy oryginalne identyfikatory użytkowników, filmów i gatunków\n",
        "# Zapisujemy także odwrotne mapowania, aby móc potem\n",
        "# łatwo odkodować wyniki rekomendacji do oryginalnych ID.\n",
        "\n",
        "\n",
        "user_mapping = {v: i for i, v in enumerate(data['userId'].astype('category').cat.categories)}\n",
        "movie_mapping = {v: i for i, v in enumerate(data['movieId'].astype('category').cat.categories)}\n",
        "genre_mapping = {v: i for i, v in enumerate(data['genre_id'].astype('category').cat.categories)}\n",
        "\n",
        "with open('user2user_encoded.pkl', 'wb') as f:\n",
        "    pickle.dump(user_mapping, f)\n",
        "with open('movie2movie_encoded.pkl', 'wb') as f:\n",
        "    pickle.dump(movie_mapping, f)\n",
        "with open('genre2genre_encoded.pkl', 'wb') as f:\n",
        "    pickle.dump(genre_mapping, f)\n",
        "\n",
        "user_encoded2user = {i: v for v, i in user_mapping.items()}\n",
        "movie_encoded2movie = {i: v for v, i in movie_mapping.items()}\n",
        "with open('user_encoded2user.pkl', 'wb') as f:\n",
        "    pickle.dump(user_encoded2user, f)\n",
        "with open('movie_encoded2movie.pkl', 'wb') as f:\n",
        "    pickle.dump(movie_encoded2movie, f)\n"
      ],
      "metadata": {
        "id": "iBe3G20xwBWR"
      },
      "execution_count": null,
      "outputs": []
    }
  ]
}